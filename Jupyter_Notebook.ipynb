{
 "cells": [
  {
   "cell_type": "markdown",
   "metadata": {},
   "source": [
    "<center>\n",
    "    <img src=\"https://cf-courses-data.s3.us.cloud-object-storage.appdomain.cloud/IBMDeveloperSkillsNetwork-DS0105EN-SkillsNetwork/labs/Module2/images/SN_web_lightmode.png\" width=\"300\" alt=\"cognitiveclass.ai logo\">\n",
    "</center>\n"
   ]
  },
  {
   "cell_type": "markdown",
   "metadata": {},
   "source": [
    "#### Add your code below following the instructions given in the course\n"
   ]
  },
  {
   "cell_type": "markdown",
   "metadata": {
    "tags": []
   },
   "source": [
    "# Jupyter_Notebook"
   ]
  },
  {
   "cell_type": "markdown",
   "metadata": {},
   "source": [
    "## Introduction\n",
    "\n",
    "Bienvenue dans ce carnet Jupyterlite sur la science des données ! Dans ce carnet, nous explorerons différents langages, bibliothèques et outils utilisés dans le domaine de la science des données.\n"
   ]
  },
  {
   "cell_type": "markdown",
   "metadata": {},
   "source": [
    "## Langages de la Science des Données\n",
    "\n",
    "- Python\n",
    "- R\n",
    "- SQL\n",
    "- Julia\n",
    "- Scala"
   ]
  },
  {
   "cell_type": "markdown",
   "metadata": {},
   "source": [
    "## Bibliothèques de Science des Données\n",
    "\n",
    "- Pandas\n",
    "- NumPy\n",
    "- Matplotlib\n",
    "- Seaborn\n",
    "- Scikit-learn\n",
    "- TensorFlow\n",
    "- Keras\n",
    "- PyTorch\n"
   ]
  },
  {
   "cell_type": "markdown",
   "metadata": {},
   "source": [
    "## Tableau des Outils de la Science des Données\n",
    "\n",
    "| Outil          | Description                                     |\n",
    "|----------------|-------------------------------------------------|\n",
    "| Jupyter Notebook | Environnement interactif pour le codage et l'analyse de données |\n",
    "| Anaconda       | Distribution de Python pour la science des données, incluant de nombreuses bibliothèques préinstallées |\n",
    "| Docker         | Plateforme de conteneurisation pour le déploiement d'applications et d'environnements |\n",
    "| Git            | Système de gestion de versions pour le suivi des modifications du code |\n",
    "| Spark          | Moteur de traitement des données distribué pour le traitement de données à grande échelle |\n",
    "| Hadoop         | Framework open-source pour le stockage et le traitement distribué de grands ensembles de données |\n"
   ]
  },
  {
   "cell_type": "markdown",
   "metadata": {},
   "source": [
    "## Exemples d'Expressions Arithmétiques\n",
    "\n",
    "Voici quelques exemples d'expressions arithmétiques :\n",
    "\n",
    "- Addition : 5 + 3 = 8\n",
    "- Soustraction : 10 - 4 = 6\n",
    "- Multiplication : 2 * 6 = 12\n",
    "- Division : 15 / 3 = 5\n",
    "- Exponentiation : 2^3 = 8\n",
    "\n",
    "Nous pouvons également combiner ces opérations pour former des expressions plus complexes, par exemple :\n",
    "\n",
    "- (10 + 3) * 2 = 26\n",
    "- 5 * (8 - 3) = 25\n"
   ]
  },
  {
   "cell_type": "code",
   "execution_count": 1,
   "metadata": {
    "tags": []
   },
   "outputs": [
    {
     "name": "stdout",
     "output_type": "stream",
     "text": [
      "Résultat de la multiplication : 15\n",
      "Résultat de l'addition : 14\n"
     ]
    }
   ],
   "source": [
    "# Multiplication\n",
    "result_multiplication = 5 * 3\n",
    "print(\"Résultat de la multiplication :\", result_multiplication)\n",
    "\n",
    "# Addition\n",
    "result_addition = 10 + 4\n",
    "print(\"Résultat de l'addition :\", result_addition)\n"
   ]
  },
  {
   "cell_type": "code",
   "execution_count": 3,
   "metadata": {
    "tags": []
   },
   "outputs": [
    {
     "name": "stdout",
     "output_type": "stream",
     "text": [
      "1678 minutes équivalent à 27.966666666666665 heures.\n"
     ]
    }
   ],
   "source": [
    "# Nombre de minutes à convertir\n",
    "minutes = 1678\n",
    "\n",
    "# Conversion des minutes en heures\n",
    "heures = minutes / 60\n",
    "\n",
    "# Affichage du résultat\n",
    "print(minutes, \"minutes équivalent à\", heures, \"heures.\")\n"
   ]
  },
  {
   "cell_type": "markdown",
   "metadata": {
    "tags": []
   },
   "source": [
    "## Objectifs\n",
    "\n",
    "1. Créer un Jupyterlite Notebook.\n",
    "2. Explorer les langages utilisés en science des données.\n",
    "3. Identifier et présenter les bibliothèques couramment utilisées.\n",
    "4. Examiner les outils et les technologies associés à la science des données.\n",
    "5. Effectuer des opérations arithmétiques simples en utilisant du code Python.\n",
    "6. Appliquer des conversions d'unités de mesure en Python.\n",
    "7. Partager le notebook sur GitHub.\n",
    "8. Fournir une capture d'écran de la première page du notebook.\n"
   ]
  },
  {
   "cell_type": "markdown",
   "metadata": {},
   "source": [
    "## Auteur\n",
    "\n",
    "Ce notebook a été créé par [Yousra].\n"
   ]
  },
  {
   "cell_type": "code",
   "execution_count": null,
   "metadata": {},
   "outputs": [],
   "source": []
  }
 ],
 "metadata": {
  "kernelspec": {
   "display_name": "Python",
   "language": "python",
   "name": "conda-env-python-py"
  },
  "language_info": {
   "codemirror_mode": {
    "name": "ipython",
    "version": 3
   },
   "file_extension": ".py",
   "mimetype": "text/x-python",
   "name": "python",
   "nbconvert_exporter": "python",
   "pygments_lexer": "ipython3",
   "version": "3.7.12"
  }
 },
 "nbformat": 4,
 "nbformat_minor": 4
}
